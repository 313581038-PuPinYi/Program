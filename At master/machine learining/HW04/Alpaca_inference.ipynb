{
 "cells": [
  {
   "cell_type": "code",
   "execution_count": 1,
   "metadata": {},
   "outputs": [
    {
     "name": "stdout",
     "output_type": "stream",
     "text": [
      "🦥 Unsloth: Will patch your computer to enable 2x faster free finetuning.\n"
     ]
    },
    {
     "name": "stderr",
     "output_type": "stream",
     "text": [
      "c:\\Users\\s1092\\Desktop\\ML_HW04\\myenv5\\lib\\site-packages\\tqdm\\auto.py:21: TqdmWarning: IProgress not found. Please update jupyter and ipywidgets. See https://ipywidgets.readthedocs.io/en/stable/user_install.html\n",
      "  from .autonotebook import tqdm as notebook_tqdm\n"
     ]
    },
    {
     "name": "stdout",
     "output_type": "stream",
     "text": [
      "🦥 Unsloth Zoo will now patch everything to make training faster!\n",
      "==((====))==  Unsloth 2025.1.5: Fast Llama patching. Transformers: 4.47.1.\n",
      "   \\\\   /|    GPU: NVIDIA GeForce RTX 4060 Ti. Max memory: 15.996 GB. Platform: Windows.\n",
      "O^O/ \\_/ \\    Torch: 2.4.0+cu121. CUDA: 8.9. CUDA Toolkit: 12.1. Triton: 3.1.0\n",
      "\\        /    Bfloat16 = TRUE. FA [Xformers = 0.0.27.post2. FA2 = False]\n",
      " \"-____-\"     Free Apache license: http://github.com/unslothai/unsloth\n",
      "Unsloth: Fast downloading is enabled - ignore downloading bars which are red colored!\n"
     ]
    },
    {
     "name": "stderr",
     "output_type": "stream",
     "text": [
      "c:\\Users\\s1092\\Desktop\\ML_HW04\\myenv5\\lib\\site-packages\\unsloth\\models\\llama.py:1185: UserWarning: expandable_segments not supported on this platform (Triggered internally at C:\\actions-runner\\_work\\pytorch\\pytorch\\builder\\windows\\pytorch\\c10/cuda/CUDAAllocatorConfig.h:28.)\n",
      "  self.register_buffer(\"cos_cached\", emb.cos().to(dtype=dtype, device=device, non_blocking=True), persistent=False)\n",
      "Loading checkpoint shards: 100%|██████████| 4/4 [00:13<00:00,  3.43s/it]\n",
      "Unsloth 2025.1.5 patched 32 layers with 32 QKV layers, 32 O layers and 32 MLP layers.\n"
     ]
    },
    {
     "name": "stdout",
     "output_type": "stream",
     "text": [
      "cuda\n"
     ]
    }
   ],
   "source": [
    "import torch\n",
    "from unsloth import FastLanguageModel\n",
    "# from peft import PeftModel, PeftConfig\n",
    "from datasets import load_dataset\n",
    "import os\n",
    "import json\n",
    "from tqdm import tqdm\n",
    "\n",
    "max_seq_length = 2048 # Choose any! We auto support RoPE Scaling internally!\n",
    "dtype = None # None for auto detection. Float16 for Tesla T4, V100, Bfloat16 for Ampere+\n",
    "load_in_4bit = True # Use 4bit quantization to reduce memory usage. Can be False.\n",
    "\n",
    "\n",
    "# 定义路径\n",
    "checkpoint = \"checkpoint-500\"\n",
    "model_dir = f\"Llama-3-Taiwan-8B-Instruct/{checkpoint}\"\n",
    "output_dir = model_dir.split(\"/\")[0]\n",
    "\n",
    "# 加载最佳模型和 Tokenizer\n",
    "model, tokenizer = FastLanguageModel.from_pretrained(\n",
    "    model_name = model_dir,\n",
    "    max_seq_length = max_seq_length,\n",
    "    dtype = dtype,\n",
    "    load_in_4bit = load_in_4bit,\n",
    "    # token = \"hf_...\", # use one if using gated models like meta-llama/Llama-2-7b-hf\n",
    ")\n",
    "\n",
    "# # 调用 for_inference\n",
    "FastLanguageModel.for_inference(model)\n",
    "\n",
    "\n",
    "\n",
    "DEVICE = \"cuda\" if torch.cuda.is_available() else \"cpu\"\n",
    "model.to(DEVICE)\n",
    "print(DEVICE)"
   ]
  },
  {
   "cell_type": "code",
   "execution_count": 2,
   "metadata": {},
   "outputs": [
    {
     "name": "stdout",
     "output_type": "stream",
     "text": [
      "Dataset({\n",
      "    features: ['id', 'text'],\n",
      "    num_rows: 1000\n",
      "})\n"
     ]
    }
   ],
   "source": [
    "alpaca_prompt = \"\"\"Below is an instruction that describes a task, paired with an input that provides further context. Write a response that appropriately completes the request.\n",
    "\n",
    "### Instruction:\n",
    "{}\n",
    "\n",
    "### Input:\n",
    "{}\n",
    "\n",
    "### Response:\n",
    "{}\"\"\"\n",
    "\n",
    "\n",
    "# EOS_TOKEN = tokenizer.eos_token # Must add EOS_TOKEN\n",
    "def formatting_prompts_test(examples):\n",
    "    instructions = examples[\"instruction\"]\n",
    "    inputs       = examples[\"question\"]\n",
    "    outputs      = examples[\"output\"]\n",
    "    texts = []\n",
    "    for instruction, input, output in zip(instructions, inputs, outputs):\n",
    "        # Must add EOS_TOKEN, otherwise your generation will go on forever!\n",
    "        text = alpaca_prompt.format(instruction, input, output) \n",
    "        texts.append(text)\n",
    "    return { \"text\" : texts }\n",
    "\n",
    "\n",
    "\n",
    "from datasets import load_dataset\n",
    "test_datasets = load_dataset(\"datasets/test\", split = \"test\")\n",
    "test_datasets = test_datasets.map(\n",
    "    formatting_prompts_test, \n",
    "    batched = True,\n",
    "    remove_columns=[\"instruction\", \"question\", \"output\"],\n",
    ")\n",
    "\n",
    "print(test_datasets)\n",
    "# print(test_datasets[:5])"
   ]
  },
  {
   "cell_type": "code",
   "execution_count": 3,
   "metadata": {},
   "outputs": [
    {
     "name": "stdout",
     "output_type": "stream",
     "text": [
      "Start inference.\n"
     ]
    },
    {
     "name": "stderr",
     "output_type": "stream",
     "text": [
      "inference: 100%|██████████| 1000/1000 [12:00<00:00,  1.39it/s]"
     ]
    },
    {
     "name": "stdout",
     "output_type": "stream",
     "text": [
      "End inference.\n"
     ]
    },
    {
     "name": "stderr",
     "output_type": "stream",
     "text": [
      "\n"
     ]
    }
   ],
   "source": [
    "\n",
    "\n",
    "generation_config = dict(\n",
    "    temperature=0.0,\n",
    "    top_k=40,\n",
    "    top_p=0.9,\n",
    "    do_sample=False,\n",
    "    num_beams=1,\n",
    "    repetition_penalty=1.1,\n",
    "    max_new_tokens=50\n",
    ")\n",
    "\n",
    "\n",
    "with torch.no_grad():\n",
    "    print(\"Start inference.\")\n",
    "    results = []\n",
    "    for test_dataset in tqdm(test_datasets, desc=\"inference: \"):\n",
    "        \n",
    "        id = int(test_dataset['id'])\n",
    "        input_text = str(test_dataset['text']) \n",
    "        \n",
    "        # 生成回答     \n",
    "        inputs = tokenizer(input_text,return_tensors=\"pt\").to(\"cuda\")  \n",
    "        generation_output = model.generate(**inputs, max_new_tokens = 64, use_cache = True)\n",
    "        \n",
    "        s = generation_output[0]\n",
    "\n",
    "        output = tokenizer.decode(s,skip_special_tokens=True)\n",
    "        response = output.split(\"### Response:\")[1].strip()\n",
    "\n",
    "        answer = response.split(')')[0]\n",
    "\n",
    "        # print(f\"======={id}=======\")\n",
    "        # print(f\"Input: {input_text}\\n\")\n",
    "        # print(f\"Response: {response}\\n\")\n",
    "\n",
    "        results.append({\"id\":id,\"answer\":answer})\n",
    "  \n",
    "    print(\"End inference.\")\n"
   ]
  },
  {
   "cell_type": "code",
   "execution_count": 4,
   "metadata": {},
   "outputs": [
    {
     "data": {
      "text/plain": [
       "1000"
      ]
     },
     "execution_count": 4,
     "metadata": {},
     "output_type": "execute_result"
    }
   ],
   "source": [
    "len(results)"
   ]
  },
  {
   "cell_type": "code",
   "execution_count": 5,
   "metadata": {},
   "outputs": [
    {
     "name": "stdout",
     "output_type": "stream",
     "text": [
      "0\n"
     ]
    }
   ],
   "source": [
    "# 初始化計數器\n",
    "excluded_count = 0\n",
    "\n",
    "# 遍歷列表中的每個元素\n",
    "for answer in results:\n",
    "    output = int(answer['answer'])\n",
    "    \n",
    "    # 判斷元素是否不在範圍 1 到 4 內\n",
    "    if output not in range(1, 5):\n",
    "        # 若條件成立，計數器加 1\n",
    "        excluded_count += 1\n",
    "        \n",
    "print(excluded_count)"
   ]
  },
  {
   "cell_type": "code",
   "execution_count": 6,
   "metadata": {},
   "outputs": [
    {
     "name": "stdout",
     "output_type": "stream",
     "text": [
      "Start Write.\n",
      "End Write.\n"
     ]
    }
   ],
   "source": [
    "predictions_path = f'./{output_dir}/predict'  # 目录路径\n",
    "predictions_file = f\"predictions_file_{checkpoint}.csv\"\n",
    "\n",
    "\n",
    "os.makedirs(predictions_path, exist_ok=True)\n",
    "\n",
    "full_file_path = os.path.join(predictions_path, predictions_file)\n",
    "\n",
    "\n",
    "print(\"Start Write.\")\n",
    "\n",
    "with open(full_file_path, \"w\", encoding=\"utf-8\") as f:\n",
    "    f.write(\"ID,Answer\\n\")\n",
    "    for item in results:\n",
    "        f.write(f\"{item['id']},{item['answer']}\\n\")\n",
    "        \n",
    "print(\"End Write.\")"
   ]
  }
 ],
 "metadata": {
  "kernelspec": {
   "display_name": "myenv5",
   "language": "python",
   "name": "python3"
  },
  "language_info": {
   "codemirror_mode": {
    "name": "ipython",
    "version": 3
   },
   "file_extension": ".py",
   "mimetype": "text/x-python",
   "name": "python",
   "nbconvert_exporter": "python",
   "pygments_lexer": "ipython3",
   "version": "3.10.2"
  }
 },
 "nbformat": 4,
 "nbformat_minor": 2
}
